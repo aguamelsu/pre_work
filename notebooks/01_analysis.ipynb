{
 "cells": [
  {
   "cell_type": "code",
   "execution_count": 1,
   "id": "adbce4bc",
   "metadata": {},
   "outputs": [],
   "source": [
    "# Step 0: Import libraries\n",
    "import pandas as pd \n",
    "import numpy as np \n",
    "import matplotlib.pyplot as plt \n",
    "import seaborn as sns"
   ]
  },
  {
   "cell_type": "code",
   "execution_count": 2,
   "id": "5a50d2f6",
   "metadata": {},
   "outputs": [
    {
     "data": {
      "text/html": [
       "<div>\n",
       "<style scoped>\n",
       "    .dataframe tbody tr th:only-of-type {\n",
       "        vertical-align: middle;\n",
       "    }\n",
       "\n",
       "    .dataframe tbody tr th {\n",
       "        vertical-align: top;\n",
       "    }\n",
       "\n",
       "    .dataframe thead th {\n",
       "        text-align: right;\n",
       "    }\n",
       "</style>\n",
       "<table border=\"1\" class=\"dataframe\">\n",
       "  <thead>\n",
       "    <tr style=\"text-align: right;\">\n",
       "      <th></th>\n",
       "      <th>Unnamed: 0</th>\n",
       "      <th>id_realEstates</th>\n",
       "      <th>isNew</th>\n",
       "      <th>realEstate_name</th>\n",
       "      <th>phone_realEstate</th>\n",
       "      <th>url_inmueble</th>\n",
       "      <th>rooms</th>\n",
       "      <th>bathrooms</th>\n",
       "      <th>surface</th>\n",
       "      <th>price</th>\n",
       "      <th>...</th>\n",
       "      <th>level4Id</th>\n",
       "      <th>level5Id</th>\n",
       "      <th>level6Id</th>\n",
       "      <th>level7Id</th>\n",
       "      <th>level8Id</th>\n",
       "      <th>accuracy</th>\n",
       "      <th>latitude</th>\n",
       "      <th>longitude</th>\n",
       "      <th>zipCode</th>\n",
       "      <th>customZone</th>\n",
       "    </tr>\n",
       "  </thead>\n",
       "  <tbody>\n",
       "    <tr>\n",
       "      <th>12646</th>\n",
       "      <td>12647</td>\n",
       "      <td>153509076</td>\n",
       "      <td>False</td>\n",
       "      <td>outletdeviviendas</td>\n",
       "      <td>912172097.0</td>\n",
       "      <td>https://www.fotocasa.es/es/comprar/vivienda/ma...</td>\n",
       "      <td>2.0</td>\n",
       "      <td>NaN</td>\n",
       "      <td>66.0</td>\n",
       "      <td>48062</td>\n",
       "      <td>...</td>\n",
       "      <td>0</td>\n",
       "      <td>0</td>\n",
       "      <td>0</td>\n",
       "      <td>0</td>\n",
       "      <td>0</td>\n",
       "      <td>0</td>\n",
       "      <td>40,2023202</td>\n",
       "      <td>-3,58204980000005</td>\n",
       "      <td>NaN</td>\n",
       "      <td>NaN</td>\n",
       "    </tr>\n",
       "    <tr>\n",
       "      <th>9266</th>\n",
       "      <td>9267</td>\n",
       "      <td>152277274</td>\n",
       "      <td>False</td>\n",
       "      <td>redpiso vallecas puente vallecas</td>\n",
       "      <td>910759413.0</td>\n",
       "      <td>https://www.fotocasa.es/es/comprar/vivienda/ma...</td>\n",
       "      <td>2.0</td>\n",
       "      <td>1.0</td>\n",
       "      <td>87.0</td>\n",
       "      <td>145000</td>\n",
       "      <td>...</td>\n",
       "      <td>0</td>\n",
       "      <td>0</td>\n",
       "      <td>0</td>\n",
       "      <td>0</td>\n",
       "      <td>0</td>\n",
       "      <td>0</td>\n",
       "      <td>40,391328</td>\n",
       "      <td>-3,671361</td>\n",
       "      <td>NaN</td>\n",
       "      <td>NaN</td>\n",
       "    </tr>\n",
       "    <tr>\n",
       "      <th>13678</th>\n",
       "      <td>13679</td>\n",
       "      <td>152313269</td>\n",
       "      <td>False</td>\n",
       "      <td>inmobiliaria el casito</td>\n",
       "      <td>914898772.0</td>\n",
       "      <td>https://www.fotocasa.es/es/comprar/vivienda/vi...</td>\n",
       "      <td>2.0</td>\n",
       "      <td>1.0</td>\n",
       "      <td>NaN</td>\n",
       "      <td>105000</td>\n",
       "      <td>...</td>\n",
       "      <td>0</td>\n",
       "      <td>0</td>\n",
       "      <td>0</td>\n",
       "      <td>0</td>\n",
       "      <td>0</td>\n",
       "      <td>0</td>\n",
       "      <td>40,72901</td>\n",
       "      <td>-3,58005</td>\n",
       "      <td>NaN</td>\n",
       "      <td>NaN</td>\n",
       "    </tr>\n",
       "    <tr>\n",
       "      <th>1815</th>\n",
       "      <td>1816</td>\n",
       "      <td>152264268</td>\n",
       "      <td>False</td>\n",
       "      <td>grupo a7r</td>\n",
       "      <td>914892938.0</td>\n",
       "      <td>https://www.fotocasa.es/vivienda/madrid-capita...</td>\n",
       "      <td>2.0</td>\n",
       "      <td>2.0</td>\n",
       "      <td>96.0</td>\n",
       "      <td>225000</td>\n",
       "      <td>...</td>\n",
       "      <td>0</td>\n",
       "      <td>0</td>\n",
       "      <td>0</td>\n",
       "      <td>0</td>\n",
       "      <td>0</td>\n",
       "      <td>1</td>\n",
       "      <td>40,2413228</td>\n",
       "      <td>-3,6949651</td>\n",
       "      <td>NaN</td>\n",
       "      <td>NaN</td>\n",
       "    </tr>\n",
       "    <tr>\n",
       "      <th>257</th>\n",
       "      <td>258</td>\n",
       "      <td>152718962</td>\n",
       "      <td>False</td>\n",
       "      <td>sinergical inmobiliaria</td>\n",
       "      <td>NaN</td>\n",
       "      <td>https://www.fotocasa.es/es/comprar/vivienda/vi...</td>\n",
       "      <td>4.0</td>\n",
       "      <td>2.0</td>\n",
       "      <td>209.0</td>\n",
       "      <td>279000</td>\n",
       "      <td>...</td>\n",
       "      <td>0</td>\n",
       "      <td>0</td>\n",
       "      <td>0</td>\n",
       "      <td>0</td>\n",
       "      <td>0</td>\n",
       "      <td>1</td>\n",
       "      <td>40,30914</td>\n",
       "      <td>-3,93366</td>\n",
       "      <td>NaN</td>\n",
       "      <td>NaN</td>\n",
       "    </tr>\n",
       "    <tr>\n",
       "      <th>2128</th>\n",
       "      <td>2129</td>\n",
       "      <td>152606768</td>\n",
       "      <td>False</td>\n",
       "      <td>pryconsa</td>\n",
       "      <td>911368119.0</td>\n",
       "      <td>https://www.fotocasa.es/es/comprar/vivienda/vi...</td>\n",
       "      <td>1.0</td>\n",
       "      <td>NaN</td>\n",
       "      <td>63.0</td>\n",
       "      <td>336000</td>\n",
       "      <td>...</td>\n",
       "      <td>0</td>\n",
       "      <td>0</td>\n",
       "      <td>0</td>\n",
       "      <td>0</td>\n",
       "      <td>0</td>\n",
       "      <td>0</td>\n",
       "      <td>40,49805</td>\n",
       "      <td>-3,67505</td>\n",
       "      <td>NaN</td>\n",
       "      <td>NaN</td>\n",
       "    </tr>\n",
       "    <tr>\n",
       "      <th>6061</th>\n",
       "      <td>6062</td>\n",
       "      <td>152846405</td>\n",
       "      <td>False</td>\n",
       "      <td>hipoges iberia</td>\n",
       "      <td>914894861.0</td>\n",
       "      <td>https://www.fotocasa.es/es/comprar/vivienda/ti...</td>\n",
       "      <td>4.0</td>\n",
       "      <td>1.0</td>\n",
       "      <td>196.0</td>\n",
       "      <td>158000</td>\n",
       "      <td>...</td>\n",
       "      <td>0</td>\n",
       "      <td>0</td>\n",
       "      <td>0</td>\n",
       "      <td>0</td>\n",
       "      <td>0</td>\n",
       "      <td>0</td>\n",
       "      <td>40,44051</td>\n",
       "      <td>-3,644395</td>\n",
       "      <td>NaN</td>\n",
       "      <td>NaN</td>\n",
       "    </tr>\n",
       "    <tr>\n",
       "      <th>2713</th>\n",
       "      <td>2714</td>\n",
       "      <td>153997738</td>\n",
       "      <td>False</td>\n",
       "      <td>daurum estate</td>\n",
       "      <td>912179743.0</td>\n",
       "      <td>https://www.fotocasa.es/es/comprar/vivienda/pa...</td>\n",
       "      <td>4.0</td>\n",
       "      <td>3.0</td>\n",
       "      <td>295.0</td>\n",
       "      <td>340000</td>\n",
       "      <td>...</td>\n",
       "      <td>0</td>\n",
       "      <td>0</td>\n",
       "      <td>0</td>\n",
       "      <td>0</td>\n",
       "      <td>0</td>\n",
       "      <td>0</td>\n",
       "      <td>40,46925</td>\n",
       "      <td>-4,07462</td>\n",
       "      <td>NaN</td>\n",
       "      <td>NaN</td>\n",
       "    </tr>\n",
       "    <tr>\n",
       "      <th>14757</th>\n",
       "      <td>14758</td>\n",
       "      <td>153914186</td>\n",
       "      <td>False</td>\n",
       "      <td>particular</td>\n",
       "      <td>NaN</td>\n",
       "      <td>https://www.fotocasa.es/es/comprar/vivienda/ma...</td>\n",
       "      <td>3.0</td>\n",
       "      <td>NaN</td>\n",
       "      <td>NaN</td>\n",
       "      <td>280000</td>\n",
       "      <td>...</td>\n",
       "      <td>0</td>\n",
       "      <td>0</td>\n",
       "      <td>0</td>\n",
       "      <td>0</td>\n",
       "      <td>0</td>\n",
       "      <td>1</td>\n",
       "      <td>40,20355</td>\n",
       "      <td>-3,88051</td>\n",
       "      <td>NaN</td>\n",
       "      <td>NaN</td>\n",
       "    </tr>\n",
       "    <tr>\n",
       "      <th>9138</th>\n",
       "      <td>9139</td>\n",
       "      <td>152771757</td>\n",
       "      <td>False</td>\n",
       "      <td>distrito getafe i</td>\n",
       "      <td>912172393.0</td>\n",
       "      <td>https://www.fotocasa.es/es/comprar/vivienda/po...</td>\n",
       "      <td>3.0</td>\n",
       "      <td>1.0</td>\n",
       "      <td>70.0</td>\n",
       "      <td>133000</td>\n",
       "      <td>...</td>\n",
       "      <td>0</td>\n",
       "      <td>0</td>\n",
       "      <td>0</td>\n",
       "      <td>0</td>\n",
       "      <td>0</td>\n",
       "      <td>0</td>\n",
       "      <td>40,31368</td>\n",
       "      <td>-3,72077</td>\n",
       "      <td>NaN</td>\n",
       "      <td>NaN</td>\n",
       "    </tr>\n",
       "  </tbody>\n",
       "</table>\n",
       "<p>10 rows × 37 columns</p>\n",
       "</div>"
      ],
      "text/plain": [
       "       Unnamed: 0  id_realEstates  isNew                   realEstate_name  \\\n",
       "12646       12647       153509076  False                 outletdeviviendas   \n",
       "9266         9267       152277274  False  redpiso vallecas puente vallecas   \n",
       "13678       13679       152313269  False            inmobiliaria el casito   \n",
       "1815         1816       152264268  False                         grupo a7r   \n",
       "257           258       152718962  False           sinergical inmobiliaria   \n",
       "2128         2129       152606768  False                          pryconsa   \n",
       "6061         6062       152846405  False                    hipoges iberia   \n",
       "2713         2714       153997738  False                     daurum estate   \n",
       "14757       14758       153914186  False                        particular   \n",
       "9138         9139       152771757  False                 distrito getafe i   \n",
       "\n",
       "       phone_realEstate                                       url_inmueble  \\\n",
       "12646       912172097.0  https://www.fotocasa.es/es/comprar/vivienda/ma...   \n",
       "9266        910759413.0  https://www.fotocasa.es/es/comprar/vivienda/ma...   \n",
       "13678       914898772.0  https://www.fotocasa.es/es/comprar/vivienda/vi...   \n",
       "1815        914892938.0  https://www.fotocasa.es/vivienda/madrid-capita...   \n",
       "257                 NaN  https://www.fotocasa.es/es/comprar/vivienda/vi...   \n",
       "2128        911368119.0  https://www.fotocasa.es/es/comprar/vivienda/vi...   \n",
       "6061        914894861.0  https://www.fotocasa.es/es/comprar/vivienda/ti...   \n",
       "2713        912179743.0  https://www.fotocasa.es/es/comprar/vivienda/pa...   \n",
       "14757               NaN  https://www.fotocasa.es/es/comprar/vivienda/ma...   \n",
       "9138        912172393.0  https://www.fotocasa.es/es/comprar/vivienda/po...   \n",
       "\n",
       "       rooms  bathrooms  surface   price  ... level4Id level5Id level6Id  \\\n",
       "12646    2.0        NaN     66.0   48062  ...        0        0        0   \n",
       "9266     2.0        1.0     87.0  145000  ...        0        0        0   \n",
       "13678    2.0        1.0      NaN  105000  ...        0        0        0   \n",
       "1815     2.0        2.0     96.0  225000  ...        0        0        0   \n",
       "257      4.0        2.0    209.0  279000  ...        0        0        0   \n",
       "2128     1.0        NaN     63.0  336000  ...        0        0        0   \n",
       "6061     4.0        1.0    196.0  158000  ...        0        0        0   \n",
       "2713     4.0        3.0    295.0  340000  ...        0        0        0   \n",
       "14757    3.0        NaN      NaN  280000  ...        0        0        0   \n",
       "9138     3.0        1.0     70.0  133000  ...        0        0        0   \n",
       "\n",
       "      level7Id level8Id accuracy    latitude          longitude zipCode  \\\n",
       "12646        0        0        0  40,2023202  -3,58204980000005     NaN   \n",
       "9266         0        0        0   40,391328          -3,671361     NaN   \n",
       "13678        0        0        0    40,72901           -3,58005     NaN   \n",
       "1815         0        0        1  40,2413228         -3,6949651     NaN   \n",
       "257          0        0        1    40,30914           -3,93366     NaN   \n",
       "2128         0        0        0    40,49805           -3,67505     NaN   \n",
       "6061         0        0        0    40,44051          -3,644395     NaN   \n",
       "2713         0        0        0    40,46925           -4,07462     NaN   \n",
       "14757        0        0        1    40,20355           -3,88051     NaN   \n",
       "9138         0        0        0    40,31368           -3,72077     NaN   \n",
       "\n",
       "      customZone  \n",
       "12646        NaN  \n",
       "9266         NaN  \n",
       "13678        NaN  \n",
       "1815         NaN  \n",
       "257          NaN  \n",
       "2128         NaN  \n",
       "6061         NaN  \n",
       "2713         NaN  \n",
       "14757        NaN  \n",
       "9138         NaN  \n",
       "\n",
       "[10 rows x 37 columns]"
      ]
     },
     "execution_count": 2,
     "metadata": {},
     "output_type": "execute_result"
    }
   ],
   "source": [
    "# Step 1: Load data\n",
    "df_raw = pd.read_csv(\"../real_estate.csv\", sep=\";\")\n",
    "\n",
    "df_raw.sample(10)"
   ]
  },
  {
   "cell_type": "code",
   "execution_count": 3,
   "id": "83ed1de1",
   "metadata": {},
   "outputs": [
    {
     "data": {
      "text/plain": [
       "count    1.533500e+04\n",
       "mean     4.773036e+05\n",
       "std      5.912942e+05\n",
       "min      0.000000e+00\n",
       "25%      1.690000e+05\n",
       "50%      2.800000e+05\n",
       "75%      5.400000e+05\n",
       "max      8.500000e+06\n",
       "Name: price, dtype: float64"
      ]
     },
     "execution_count": 3,
     "metadata": {},
     "output_type": "execute_result"
    }
   ],
   "source": [
    "# Step 2: Data cleaning and preprocessing\n",
    "\n",
    "df_baking = df_raw.copy()\n",
    "\n",
    "df_baking = df_baking.iloc[:, 1:-2]\n",
    "\n",
    "df_baking[\"date\"] = pd.to_datetime(df_baking[\"date\"], errors=\"coerce\") # Force the datetaime transformation even when there's errors\n",
    "\n",
    "df_baking.columns = df_baking.columns.str.lower() # lower case the columns name and make them strings\n",
    "\n",
    "\n",
    "dropped_cols = df_baking.columns[23:32]\n",
    "df_baking = df_baking.drop(columns=dropped_cols)\n",
    "df_baking = df_baking.drop(columns=[\"countryid\", \"country\"])\n",
    "\n",
    "\n",
    "categorical_columns = [\"id_realestates\", \"phone_realestate\", \"realestate_name\", \"description\", \"address\"]\n",
    "\n",
    "for col in categorical_columns:\n",
    "    df_baking[col] = df_baking[col].astype(\"category\")\n",
    "\n",
    "# Replace commas in lat and long with decimal points\n",
    "df_baking[\"latitude\"] = df_baking[\"latitude\"].str.replace(\",\", \".\").astype(float)\n",
    "df_baking[\"longitude\"] = df_baking[\"longitude\"].str.replace(\",\", \".\").astype(float)\n",
    "\n",
    "df_baking['price'].describe(\n",
    ")"
   ]
  },
  {
   "cell_type": "markdown",
   "id": "c796a714",
   "metadata": {},
   "source": [
    "Exercise 01. What is the most expensive house in the entire dataset? (★☆☆)"
   ]
  },
  {
   "cell_type": "code",
   "execution_count": 4,
   "id": "e7d23716",
   "metadata": {},
   "outputs": [
    {
     "data": {
      "text/html": [
       "<div>\n",
       "<style scoped>\n",
       "    .dataframe tbody tr th:only-of-type {\n",
       "        vertical-align: middle;\n",
       "    }\n",
       "\n",
       "    .dataframe tbody tr th {\n",
       "        vertical-align: top;\n",
       "    }\n",
       "\n",
       "    .dataframe thead th {\n",
       "        text-align: right;\n",
       "    }\n",
       "</style>\n",
       "<table border=\"1\" class=\"dataframe\">\n",
       "  <thead>\n",
       "    <tr style=\"text-align: right;\">\n",
       "      <th></th>\n",
       "      <th>id_realestates</th>\n",
       "      <th>isnew</th>\n",
       "      <th>realestate_name</th>\n",
       "      <th>phone_realestate</th>\n",
       "      <th>url_inmueble</th>\n",
       "      <th>rooms</th>\n",
       "      <th>bathrooms</th>\n",
       "      <th>surface</th>\n",
       "      <th>price</th>\n",
       "      <th>date</th>\n",
       "      <th>...</th>\n",
       "      <th>level2</th>\n",
       "      <th>level3</th>\n",
       "      <th>level4</th>\n",
       "      <th>level5</th>\n",
       "      <th>level6</th>\n",
       "      <th>level7</th>\n",
       "      <th>level8</th>\n",
       "      <th>upperlevel</th>\n",
       "      <th>latitude</th>\n",
       "      <th>longitude</th>\n",
       "    </tr>\n",
       "  </thead>\n",
       "  <tbody>\n",
       "    <tr>\n",
       "      <th>13110</th>\n",
       "      <td>132042636</td>\n",
       "      <td>False</td>\n",
       "      <td>engel volkers torrelodones</td>\n",
       "      <td>911798512.0</td>\n",
       "      <td>https://www.fotocasa.es/es/comprar/vivienda/vi...</td>\n",
       "      <td>19.0</td>\n",
       "      <td>NaN</td>\n",
       "      <td>NaN</td>\n",
       "      <td>8500000</td>\n",
       "      <td>NaT</td>\n",
       "      <td>...</td>\n",
       "      <td>Madrid</td>\n",
       "      <td>Zona Noroeste</td>\n",
       "      <td>El Escorial, Zona de</td>\n",
       "      <td>El Escorial</td>\n",
       "      <td>NaN</td>\n",
       "      <td>Centro - Manquilla</td>\n",
       "      <td>NaN</td>\n",
       "      <td>Centro - Manquilla</td>\n",
       "      <td>40.58308</td>\n",
       "      <td>-4.129519</td>\n",
       "    </tr>\n",
       "  </tbody>\n",
       "</table>\n",
       "<p>1 rows × 23 columns</p>\n",
       "</div>"
      ],
      "text/plain": [
       "      id_realestates  isnew             realestate_name phone_realestate  \\\n",
       "13110      132042636  False  engel volkers torrelodones      911798512.0   \n",
       "\n",
       "                                            url_inmueble  rooms  bathrooms  \\\n",
       "13110  https://www.fotocasa.es/es/comprar/vivienda/vi...   19.0        NaN   \n",
       "\n",
       "       surface    price date  ...  level2         level3  \\\n",
       "13110      NaN  8500000  NaT  ...  Madrid  Zona Noroeste   \n",
       "\n",
       "                     level4       level5 level6              level7 level8  \\\n",
       "13110  El Escorial, Zona de  El Escorial    NaN  Centro - Manquilla    NaN   \n",
       "\n",
       "               upperlevel  latitude longitude  \n",
       "13110  Centro - Manquilla  40.58308 -4.129519  \n",
       "\n",
       "[1 rows x 23 columns]"
      ]
     },
     "execution_count": 4,
     "metadata": {},
     "output_type": "execute_result"
    }
   ],
   "source": [
    "# df_baking[df_baking['price'] == df_baking['price'].max()]\n",
    "\n",
    "df_baking.sort_values(by='price', ascending=False).head(1)"
   ]
  },
  {
   "cell_type": "markdown",
   "id": "6bb1097c",
   "metadata": {},
   "source": [
    "Exercise 02. What is the cheapest house in the dataset? (★☆☆)"
   ]
  },
  {
   "cell_type": "code",
   "execution_count": 5,
   "id": "a07f8d70",
   "metadata": {},
   "outputs": [
    {
     "data": {
      "text/plain": [
       "13110    8500000\n",
       "Name: price, dtype: int64"
      ]
     },
     "execution_count": 5,
     "metadata": {},
     "output_type": "execute_result"
    }
   ],
   "source": [
    "cheapest_house = df_baking[df_baking['price'] != 0].sort_values(by='price', ascending=False)[['address', 'price']].head(1)\n",
    "\n",
    "cheapest_house['price']"
   ]
  },
  {
   "cell_type": "markdown",
   "id": "d687d82b",
   "metadata": {},
   "source": [
    "\n",
    "Exercise 03. What is the largest and smallest house in the dataset? (★☆☆)\n",
    "\n",
    "Print the address and area of the selected houses. For example:\n",
    "\n",
    "The largest house is located at Calle Gran Vía, Nº38, and its area is 5000 square meters.\n",
    "\n",
    "The smallest house is located at Calle Mayor, Nº12, and its area is 200 square meters.\n",
    "\n",
    "This exercise is similar to the previous one, but we are looking for the largest and smallest houses based on their area.\n"
   ]
  },
  {
   "cell_type": "code",
   "execution_count": null,
   "id": "563d4da3",
   "metadata": {},
   "outputs": [
    {
     "data": {
      "text/plain": [
       "'The largest house is located at Sevilla la Nueva, and its area is 249000.0'"
      ]
     },
     "metadata": {},
     "output_type": "display_data"
    },
    {
     "data": {
      "text/plain": [
       "'The smallest house is located at Calle Amparo,  Madrid Capital, and its area is 15.0'"
      ]
     },
     "metadata": {},
     "output_type": "display_data"
    },
    {
     "data": {
      "text/html": [
       "<div>\n",
       "<style scoped>\n",
       "    .dataframe tbody tr th:only-of-type {\n",
       "        vertical-align: middle;\n",
       "    }\n",
       "\n",
       "    .dataframe tbody tr th {\n",
       "        vertical-align: top;\n",
       "    }\n",
       "\n",
       "    .dataframe thead th {\n",
       "        text-align: right;\n",
       "    }\n",
       "</style>\n",
       "<table border=\"1\" class=\"dataframe\">\n",
       "  <thead>\n",
       "    <tr style=\"text-align: right;\">\n",
       "      <th></th>\n",
       "      <th>address</th>\n",
       "      <th>surface</th>\n",
       "    </tr>\n",
       "  </thead>\n",
       "  <tbody>\n",
       "    <tr>\n",
       "      <th>0</th>\n",
       "      <td>Sevilla la Nueva</td>\n",
       "      <td>249000.0</td>\n",
       "    </tr>\n",
       "    <tr>\n",
       "      <th>1</th>\n",
       "      <td>Calle Apd 4 Los Carrizos, 357, Arroyomolinos (...</td>\n",
       "      <td>66666.0</td>\n",
       "    </tr>\n",
       "    <tr>\n",
       "      <th>2</th>\n",
       "      <td>Calle Paraje Monte de Valdeoliva, San Agustín ...</td>\n",
       "      <td>16853.0</td>\n",
       "    </tr>\n",
       "    <tr>\n",
       "      <th>3</th>\n",
       "      <td>Navarredonda</td>\n",
       "      <td>5504.0</td>\n",
       "    </tr>\n",
       "    <tr>\n",
       "      <th>4</th>\n",
       "      <td>Calle Canario 2  Los Ranchos, Galapagar</td>\n",
       "      <td>5083.0</td>\n",
       "    </tr>\n",
       "    <tr>\n",
       "      <th>...</th>\n",
       "      <td>...</td>\n",
       "      <td>...</td>\n",
       "    </tr>\n",
       "    <tr>\n",
       "      <th>14080</th>\n",
       "      <td>Los Peñascales,  Madrid Capital</td>\n",
       "      <td>21.0</td>\n",
       "    </tr>\n",
       "    <tr>\n",
       "      <th>14081</th>\n",
       "      <td>Arquitectura,  Madrid Capital</td>\n",
       "      <td>21.0</td>\n",
       "    </tr>\n",
       "    <tr>\n",
       "      <th>14082</th>\n",
       "      <td>Madrid Capital</td>\n",
       "      <td>18.0</td>\n",
       "    </tr>\n",
       "    <tr>\n",
       "      <th>14083</th>\n",
       "      <td>Madrid Capital</td>\n",
       "      <td>18.0</td>\n",
       "    </tr>\n",
       "    <tr>\n",
       "      <th>14084</th>\n",
       "      <td>Calle Amparo,  Madrid Capital</td>\n",
       "      <td>15.0</td>\n",
       "    </tr>\n",
       "  </tbody>\n",
       "</table>\n",
       "<p>14085 rows × 2 columns</p>\n",
       "</div>"
      ],
      "text/plain": [
       "                                                 address   surface\n",
       "0                                       Sevilla la Nueva  249000.0\n",
       "1      Calle Apd 4 Los Carrizos, 357, Arroyomolinos (...   66666.0\n",
       "2      Calle Paraje Monte de Valdeoliva, San Agustín ...   16853.0\n",
       "3                                           Navarredonda    5504.0\n",
       "4                Calle Canario 2  Los Ranchos, Galapagar    5083.0\n",
       "...                                                  ...       ...\n",
       "14080                    Los Peñascales,  Madrid Capital      21.0\n",
       "14081                      Arquitectura,  Madrid Capital      21.0\n",
       "14082                                     Madrid Capital      18.0\n",
       "14083                                     Madrid Capital      18.0\n",
       "14084                      Calle Amparo,  Madrid Capital      15.0\n",
       "\n",
       "[14085 rows x 2 columns]"
      ]
     },
     "metadata": {},
     "output_type": "display_data"
    }
   ],
   "source": [
    "df = df_baking.copy()\n",
    "\n",
    "# Use reset_index to access values through loc and iloc properly. reset_index creates a column with an index based on the position\n",
    "# though with drop=True that column is dropped.\n",
    "df_by_surface = df.dropna(subset=['surface']).sort_values(by='surface', ascending=False)[['address', 'surface']].reset_index(drop=True)\n",
    "\n",
    "largest_house = f\"The largest house is located at {df_by_surface.loc[0, 'address']}, and its area is {df_by_surface.loc[0, 'surface']}\"\n",
    "smallest_house = f\"The smallest house is located at {df_by_surface.iloc[-1, 0]}, and its area is {df_by_surface.iloc[-1, 1]}\"\n",
    "\n",
    "display(largest_house)\n",
    "display(smallest_house)\n",
    "\n",
    "display(df_by_surface)"
   ]
  },
  {
   "cell_type": "markdown",
   "id": "899894e0",
   "metadata": {},
   "source": [
    "\n",
    "Exercise 04. How many unique populations are in the dataset? (★☆☆)\n",
    "\n",
    "Count the number of unique populations in the 'level5' column and print the names of the populations separated by commas. For example:\n",
    "\n",
    "print(populations)\n",
    "\n",
    "population1, population2, population3, ...\n"
   ]
  },
  {
   "cell_type": "code",
   "execution_count": 7,
   "id": "f901bcea",
   "metadata": {},
   "outputs": [
    {
     "name": "stdout",
     "output_type": "stream",
     "text": [
      "Arganda del Rey, Fuenlabrada, Boadilla del Monte, Las Rozas de Madrid,  Madrid Capital, Villaviciosa de Odón, Pinto, Valdemoro, Navalcarnero, Pozuelo de Alarcón, Torrejón de Ardoz, Navalagamella, San Sebastián de los Reyes, Rivas-vaciamadrid, Alpedrete, Móstoles, San Fernando de Henares, Coslada, Becerril de la Sierra, Alcalá de Henares, Chinchón, Parla, Alcorcón, El Escorial, Leganés, Pedrezuela, Majadahonda, Villanueva de la Cañada, Villanueva del Pardillo, Torrelodones, Moralzarzal, Mejorada del Campo, Aranjuez, Corpa, Getafe, Velilla de San Antonio, Sevilla la Nueva, San Martín de la Vega, Villalbilla, Collado Villalba, Alcobendas, El Molar (Madrid), Moraleja de Enmedio, Algete, Campo Real, Torrejón de la Calzada, Colmenar Viejo, Valdemorillo, Fuente El Saz de Jarama, Tres Cantos, Arroyomolinos (Madrid), Griñón, Paracuellos de Jarama, Guadarrama, Titulcia, Galapagar, Collado Mediano, Los Molinos, San Lorenzo de El Escorial, Loeches, San Martín de Valdeiglesias, Navas del Rey, Bustarviejo, Manzanares El Real, Carabaña, Casarrubuelos, Cercedilla, Fresnedillas de la Oliva, Valdemaqueda, Robledo de Chavela, Miraflores de la Sierra, Humanes de Madrid, Valdetorres de Jarama, San Agustín del Guadalix, Ciempozuelos, Camarma de Esteruelas, Torres de la Alameda, Talamanca de Jarama, El Atazar, Hoyo de Manzanares, El Boalo - Cerceda – Mataelpino, El Álamo, Valdilecha, Valdeolmos-Alalpardo, Guadalix de la Sierra, Belmonte de Tajo, El Vellón, Brunete, Redueña, Morata de Tajuña, Tielmes, Gargantilla del Lozoya, Meco, Venturada, Quijorna, Cenicientos, Torrejón de Velasco, Navacerrada, Santa María de la Alameda, Orusco de Tajuña, Daganzo de Arriba, Villamanta, Anchuelo, Valdaracete, Ajalvir, Los Santos de la Humosa, Villamanrique de Tajo, Colmenar de Oreja, Villa del Prado, Fuentidueña de Tajo, Colmenar del Arroyo, Valdelaguna, Cubas de la Sagra, Valdeavero, Aldea del Fresno, Ribatejada, Torrelaguna, Batres, Pezuela de las Torres, Colmenarejo, Serranillos del Valle, Cobeña, Soto del Real, El Berrueco, Villanueva de Perales, Fresno de Torote - Serracines, Pozuelo del Rey, Pelayos de la Presa, La Cabrera, Nuevo Baztán, Perales de Tajuña, Villaconejos, Villarejo de Salvanés, Cadalso de los Vidrios, Santorcaz, Madarcos, Garganta de los Montes, Puentes Viejas, Torremocha de Jarama, Valdemanco, Braojos, Lozoyuela-navas-sieteiglesias, Piñuécar-gandullas, Valdepiélagos, Valverde de Alcalá, Villar del Olmo, Villamantilla, Horcajo de la Sierra, Gascones, Zarzalejo, Villavieja del Lozoya, Brea de Tajo, Estremera, Chapinería, Navarredonda, Patones, Ambite, Navalafuente, Lozoya, Canencia, Cabanillas de la Sierra, Buitrago del Lozoya, Fresno de Torote, Robregordo, Pinilla del Valle, Rascafría, La Hiruela, Montejo de la Sierra\n"
     ]
    }
   ],
   "source": [
    "populations = df[\"level5\"].unique().tolist()\n",
    "\n",
    "print(\", \".join(populations))"
   ]
  },
  {
   "cell_type": "markdown",
   "id": "7531b624",
   "metadata": {},
   "source": [
    "\n",
    "Exercise 05. Does the dataset contain null values (NAs)? (★☆☆)\n",
    "\n",
    "Print a boolean (True or False) to check if there are null values, followed by the columns that contain NAs.\n"
   ]
  },
  {
   "cell_type": "code",
   "execution_count": 8,
   "id": "99f2dc78",
   "metadata": {},
   "outputs": [
    {
     "data": {
      "text/plain": [
       "id_realestates          0\n",
       "isnew                   0\n",
       "realestate_name        10\n",
       "phone_realestate      794\n",
       "url_inmueble            0\n",
       "rooms                 353\n",
       "bathrooms             345\n",
       "surface              1250\n",
       "price                   0\n",
       "date                14652\n",
       "description           142\n",
       "address                 0\n",
       "level1                  0\n",
       "level2                  0\n",
       "level3                  0\n",
       "level4               6643\n",
       "level5                  0\n",
       "level6              14627\n",
       "level7               2277\n",
       "level8               8579\n",
       "upperlevel              0\n",
       "latitude                0\n",
       "longitude               0\n",
       "dtype: int64"
      ]
     },
     "execution_count": 8,
     "metadata": {},
     "output_type": "execute_result"
    }
   ],
   "source": [
    "df.isna().sum()"
   ]
  },
  {
   "cell_type": "markdown",
   "id": "30a6c539",
   "metadata": {},
   "source": [
    "\n",
    "Exercise 06. Remove the null values (NAs) from the dataset, if applicable (★★☆)\n",
    "\n",
    "After removing the null values, compare the size of the DataFrame before and after the removal.\n"
   ]
  },
  {
   "cell_type": "code",
   "execution_count": 9,
   "id": "bee32db3",
   "metadata": {},
   "outputs": [
    {
     "data": {
      "text/html": [
       "<div>\n",
       "<style scoped>\n",
       "    .dataframe tbody tr th:only-of-type {\n",
       "        vertical-align: middle;\n",
       "    }\n",
       "\n",
       "    .dataframe tbody tr th {\n",
       "        vertical-align: top;\n",
       "    }\n",
       "\n",
       "    .dataframe thead th {\n",
       "        text-align: right;\n",
       "    }\n",
       "</style>\n",
       "<table border=\"1\" class=\"dataframe\">\n",
       "  <thead>\n",
       "    <tr style=\"text-align: right;\">\n",
       "      <th></th>\n",
       "      <th>id_realestates</th>\n",
       "      <th>isnew</th>\n",
       "      <th>realestate_name</th>\n",
       "      <th>phone_realestate</th>\n",
       "      <th>url_inmueble</th>\n",
       "      <th>rooms</th>\n",
       "      <th>bathrooms</th>\n",
       "      <th>surface</th>\n",
       "      <th>price</th>\n",
       "      <th>date</th>\n",
       "      <th>...</th>\n",
       "      <th>level2</th>\n",
       "      <th>level3</th>\n",
       "      <th>level4</th>\n",
       "      <th>level5</th>\n",
       "      <th>level6</th>\n",
       "      <th>level7</th>\n",
       "      <th>level8</th>\n",
       "      <th>upperlevel</th>\n",
       "      <th>latitude</th>\n",
       "      <th>longitude</th>\n",
       "    </tr>\n",
       "  </thead>\n",
       "  <tbody>\n",
       "    <tr>\n",
       "      <th>0</th>\n",
       "      <td>153771986</td>\n",
       "      <td>False</td>\n",
       "      <td>ferrari 57 inmobiliaria</td>\n",
       "      <td>912177526.0</td>\n",
       "      <td>https://www.fotocasa.es/es/comprar/vivienda/ma...</td>\n",
       "      <td>3.0</td>\n",
       "      <td>2.0</td>\n",
       "      <td>103.0</td>\n",
       "      <td>195000</td>\n",
       "      <td>2019-12-28 18:27:15.997502700+00:00</td>\n",
       "      <td>...</td>\n",
       "      <td>Madrid</td>\n",
       "      <td>Madrid Sureste - Cuenca Tajuña</td>\n",
       "      <td>Arganda del Rey, Zona de</td>\n",
       "      <td>Arganda del Rey</td>\n",
       "      <td>NaN</td>\n",
       "      <td>Perlita</td>\n",
       "      <td>NaN</td>\n",
       "      <td>Perlita</td>\n",
       "      <td>40.294828</td>\n",
       "      <td>-3.444024</td>\n",
       "    </tr>\n",
       "    <tr>\n",
       "      <th>2</th>\n",
       "      <td>153430440</td>\n",
       "      <td>False</td>\n",
       "      <td>look find boadilla</td>\n",
       "      <td>916350408.0</td>\n",
       "      <td>https://www.fotocasa.es/es/comprar/vivienda/ma...</td>\n",
       "      <td>2.0</td>\n",
       "      <td>2.0</td>\n",
       "      <td>99.0</td>\n",
       "      <td>390000</td>\n",
       "      <td>2019-12-28 18:27:15.997502700+00:00</td>\n",
       "      <td>...</td>\n",
       "      <td>Madrid</td>\n",
       "      <td>Zona Noroeste</td>\n",
       "      <td>Boadilla del Monte, Zona de</td>\n",
       "      <td>Boadilla del Monte</td>\n",
       "      <td>NaN</td>\n",
       "      <td>Sector B</td>\n",
       "      <td>NaN</td>\n",
       "      <td>Sector B</td>\n",
       "      <td>40.411565</td>\n",
       "      <td>-3.906623</td>\n",
       "    </tr>\n",
       "    <tr>\n",
       "      <th>3</th>\n",
       "      <td>152776331</td>\n",
       "      <td>False</td>\n",
       "      <td>tecnocasa fuenlabrada ferrocarril</td>\n",
       "      <td>916358736.0</td>\n",
       "      <td>https://www.fotocasa.es/es/comprar/vivienda/ma...</td>\n",
       "      <td>3.0</td>\n",
       "      <td>1.0</td>\n",
       "      <td>86.0</td>\n",
       "      <td>89000</td>\n",
       "      <td>2019-12-28 18:27:15.997502700+00:00</td>\n",
       "      <td>...</td>\n",
       "      <td>Madrid</td>\n",
       "      <td>Zona Sur de Madrid</td>\n",
       "      <td>Fuenlabrada, Zona de</td>\n",
       "      <td>Fuenlabrada</td>\n",
       "      <td>NaN</td>\n",
       "      <td>Centro</td>\n",
       "      <td>NaN</td>\n",
       "      <td>Centro</td>\n",
       "      <td>40.285379</td>\n",
       "      <td>-3.795081</td>\n",
       "    </tr>\n",
       "    <tr>\n",
       "      <th>4</th>\n",
       "      <td>153180188</td>\n",
       "      <td>False</td>\n",
       "      <td>ferrari 57 inmobiliaria</td>\n",
       "      <td>912177526.0</td>\n",
       "      <td>https://www.fotocasa.es/es/comprar/vivienda/ma...</td>\n",
       "      <td>2.0</td>\n",
       "      <td>2.0</td>\n",
       "      <td>106.0</td>\n",
       "      <td>172000</td>\n",
       "      <td>2019-12-28 18:27:15.997502700+00:00</td>\n",
       "      <td>...</td>\n",
       "      <td>Madrid</td>\n",
       "      <td>Madrid Sureste - Cuenca Tajuña</td>\n",
       "      <td>Arganda del Rey, Zona de</td>\n",
       "      <td>Arganda del Rey</td>\n",
       "      <td>NaN</td>\n",
       "      <td>Centro</td>\n",
       "      <td>NaN</td>\n",
       "      <td>Centro</td>\n",
       "      <td>40.299877</td>\n",
       "      <td>-3.452263</td>\n",
       "    </tr>\n",
       "    <tr>\n",
       "      <th>5</th>\n",
       "      <td>153934794</td>\n",
       "      <td>False</td>\n",
       "      <td>expimad</td>\n",
       "      <td>912780412.0</td>\n",
       "      <td>https://www.fotocasa.es/es/comprar/vivienda/ma...</td>\n",
       "      <td>2.0</td>\n",
       "      <td>1.0</td>\n",
       "      <td>70.0</td>\n",
       "      <td>315000</td>\n",
       "      <td>2019-12-28 18:27:15.968054700+00:00</td>\n",
       "      <td>...</td>\n",
       "      <td>Madrid</td>\n",
       "      <td>Zona Noroeste</td>\n",
       "      <td>Las Rozas de Madrid, Zona de</td>\n",
       "      <td>Las Rozas de Madrid</td>\n",
       "      <td>NaN</td>\n",
       "      <td>El Pinar - Punta Galea</td>\n",
       "      <td>NaN</td>\n",
       "      <td>El Pinar - Punta Galea</td>\n",
       "      <td>40.533910</td>\n",
       "      <td>-3.894450</td>\n",
       "    </tr>\n",
       "    <tr>\n",
       "      <th>...</th>\n",
       "      <td>...</td>\n",
       "      <td>...</td>\n",
       "      <td>...</td>\n",
       "      <td>...</td>\n",
       "      <td>...</td>\n",
       "      <td>...</td>\n",
       "      <td>...</td>\n",
       "      <td>...</td>\n",
       "      <td>...</td>\n",
       "      <td>...</td>\n",
       "      <td>...</td>\n",
       "      <td>...</td>\n",
       "      <td>...</td>\n",
       "      <td>...</td>\n",
       "      <td>...</td>\n",
       "      <td>...</td>\n",
       "      <td>...</td>\n",
       "      <td>...</td>\n",
       "      <td>...</td>\n",
       "      <td>...</td>\n",
       "      <td>...</td>\n",
       "    </tr>\n",
       "    <tr>\n",
       "      <th>15330</th>\n",
       "      <td>153901377</td>\n",
       "      <td>False</td>\n",
       "      <td>infocasa consulting</td>\n",
       "      <td>911360461.0</td>\n",
       "      <td>https://www.fotocasa.es/es/comprar/vivienda/ma...</td>\n",
       "      <td>2.0</td>\n",
       "      <td>1.0</td>\n",
       "      <td>96.0</td>\n",
       "      <td>259470</td>\n",
       "      <td>NaT</td>\n",
       "      <td>...</td>\n",
       "      <td>Madrid</td>\n",
       "      <td>Madrid, Zona de</td>\n",
       "      <td>NaN</td>\n",
       "      <td>Madrid Capital</td>\n",
       "      <td>NaN</td>\n",
       "      <td>Tetuán</td>\n",
       "      <td>Berruguete</td>\n",
       "      <td>Berruguete</td>\n",
       "      <td>40.454160</td>\n",
       "      <td>-3.702860</td>\n",
       "    </tr>\n",
       "    <tr>\n",
       "      <th>15331</th>\n",
       "      <td>150394373</td>\n",
       "      <td>False</td>\n",
       "      <td>inmobiliaria pulpon</td>\n",
       "      <td>912788039.0</td>\n",
       "      <td>https://www.fotocasa.es/es/comprar/vivienda/ma...</td>\n",
       "      <td>3.0</td>\n",
       "      <td>1.0</td>\n",
       "      <td>150.0</td>\n",
       "      <td>165000</td>\n",
       "      <td>NaT</td>\n",
       "      <td>...</td>\n",
       "      <td>Madrid</td>\n",
       "      <td>Madrid Sureste - Cuenca Tajuña</td>\n",
       "      <td>Velilla de San Antonio, Zona de</td>\n",
       "      <td>Velilla de San Antonio</td>\n",
       "      <td>NaN</td>\n",
       "      <td>NaN</td>\n",
       "      <td>NaN</td>\n",
       "      <td>Velilla de San Antonio</td>\n",
       "      <td>40.366520</td>\n",
       "      <td>-3.489510</td>\n",
       "    </tr>\n",
       "    <tr>\n",
       "      <th>15332</th>\n",
       "      <td>153901397</td>\n",
       "      <td>False</td>\n",
       "      <td>tecnocasa torrelodones</td>\n",
       "      <td>912780348.0</td>\n",
       "      <td>https://www.fotocasa.es/es/comprar/vivienda/ma...</td>\n",
       "      <td>4.0</td>\n",
       "      <td>2.0</td>\n",
       "      <td>175.0</td>\n",
       "      <td>495000</td>\n",
       "      <td>NaT</td>\n",
       "      <td>...</td>\n",
       "      <td>Madrid</td>\n",
       "      <td>Zona Noroeste</td>\n",
       "      <td>Torrelodones, Zona de</td>\n",
       "      <td>Torrelodones</td>\n",
       "      <td>NaN</td>\n",
       "      <td>Casco Antiguo</td>\n",
       "      <td>NaN</td>\n",
       "      <td>Casco Antiguo</td>\n",
       "      <td>40.574440</td>\n",
       "      <td>-3.921240</td>\n",
       "    </tr>\n",
       "    <tr>\n",
       "      <th>15333</th>\n",
       "      <td>152607440</td>\n",
       "      <td>False</td>\n",
       "      <td>inmobiliaria pulpon</td>\n",
       "      <td>912788039.0</td>\n",
       "      <td>https://www.fotocasa.es/es/comprar/vivienda/ma...</td>\n",
       "      <td>3.0</td>\n",
       "      <td>2.0</td>\n",
       "      <td>101.0</td>\n",
       "      <td>195000</td>\n",
       "      <td>NaT</td>\n",
       "      <td>...</td>\n",
       "      <td>Madrid</td>\n",
       "      <td>Madrid Sureste - Cuenca Tajuña</td>\n",
       "      <td>Velilla de San Antonio, Zona de</td>\n",
       "      <td>Velilla de San Antonio</td>\n",
       "      <td>NaN</td>\n",
       "      <td>NaN</td>\n",
       "      <td>NaN</td>\n",
       "      <td>Velilla de San Antonio</td>\n",
       "      <td>40.369670</td>\n",
       "      <td>-3.481050</td>\n",
       "    </tr>\n",
       "    <tr>\n",
       "      <th>15334</th>\n",
       "      <td>153901356</td>\n",
       "      <td>False</td>\n",
       "      <td>infocasa consulting</td>\n",
       "      <td>911360461.0</td>\n",
       "      <td>https://www.fotocasa.es/es/comprar/vivienda/ma...</td>\n",
       "      <td>3.0</td>\n",
       "      <td>2.0</td>\n",
       "      <td>152.0</td>\n",
       "      <td>765000</td>\n",
       "      <td>NaT</td>\n",
       "      <td>...</td>\n",
       "      <td>Madrid</td>\n",
       "      <td>Madrid, Zona de</td>\n",
       "      <td>NaN</td>\n",
       "      <td>Madrid Capital</td>\n",
       "      <td>NaN</td>\n",
       "      <td>Tetuán</td>\n",
       "      <td>Castillejos - Cuzco</td>\n",
       "      <td>Castillejos - Cuzco</td>\n",
       "      <td>40.457730</td>\n",
       "      <td>-3.690680</td>\n",
       "    </tr>\n",
       "  </tbody>\n",
       "</table>\n",
       "<p>14085 rows × 23 columns</p>\n",
       "</div>"
      ],
      "text/plain": [
       "      id_realestates  isnew                    realestate_name  \\\n",
       "0          153771986  False            ferrari 57 inmobiliaria   \n",
       "2          153430440  False                 look find boadilla   \n",
       "3          152776331  False  tecnocasa fuenlabrada ferrocarril   \n",
       "4          153180188  False            ferrari 57 inmobiliaria   \n",
       "5          153934794  False                            expimad   \n",
       "...              ...    ...                                ...   \n",
       "15330      153901377  False                infocasa consulting   \n",
       "15331      150394373  False                inmobiliaria pulpon   \n",
       "15332      153901397  False             tecnocasa torrelodones   \n",
       "15333      152607440  False                inmobiliaria pulpon   \n",
       "15334      153901356  False                infocasa consulting   \n",
       "\n",
       "      phone_realestate                                       url_inmueble  \\\n",
       "0          912177526.0  https://www.fotocasa.es/es/comprar/vivienda/ma...   \n",
       "2          916350408.0  https://www.fotocasa.es/es/comprar/vivienda/ma...   \n",
       "3          916358736.0  https://www.fotocasa.es/es/comprar/vivienda/ma...   \n",
       "4          912177526.0  https://www.fotocasa.es/es/comprar/vivienda/ma...   \n",
       "5          912780412.0  https://www.fotocasa.es/es/comprar/vivienda/ma...   \n",
       "...                ...                                                ...   \n",
       "15330      911360461.0  https://www.fotocasa.es/es/comprar/vivienda/ma...   \n",
       "15331      912788039.0  https://www.fotocasa.es/es/comprar/vivienda/ma...   \n",
       "15332      912780348.0  https://www.fotocasa.es/es/comprar/vivienda/ma...   \n",
       "15333      912788039.0  https://www.fotocasa.es/es/comprar/vivienda/ma...   \n",
       "15334      911360461.0  https://www.fotocasa.es/es/comprar/vivienda/ma...   \n",
       "\n",
       "       rooms  bathrooms  surface   price                                date  \\\n",
       "0        3.0        2.0    103.0  195000 2019-12-28 18:27:15.997502700+00:00   \n",
       "2        2.0        2.0     99.0  390000 2019-12-28 18:27:15.997502700+00:00   \n",
       "3        3.0        1.0     86.0   89000 2019-12-28 18:27:15.997502700+00:00   \n",
       "4        2.0        2.0    106.0  172000 2019-12-28 18:27:15.997502700+00:00   \n",
       "5        2.0        1.0     70.0  315000 2019-12-28 18:27:15.968054700+00:00   \n",
       "...      ...        ...      ...     ...                                 ...   \n",
       "15330    2.0        1.0     96.0  259470                                 NaT   \n",
       "15331    3.0        1.0    150.0  165000                                 NaT   \n",
       "15332    4.0        2.0    175.0  495000                                 NaT   \n",
       "15333    3.0        2.0    101.0  195000                                 NaT   \n",
       "15334    3.0        2.0    152.0  765000                                 NaT   \n",
       "\n",
       "       ...  level2                          level3  \\\n",
       "0      ...  Madrid  Madrid Sureste - Cuenca Tajuña   \n",
       "2      ...  Madrid                   Zona Noroeste   \n",
       "3      ...  Madrid              Zona Sur de Madrid   \n",
       "4      ...  Madrid  Madrid Sureste - Cuenca Tajuña   \n",
       "5      ...  Madrid                   Zona Noroeste   \n",
       "...    ...     ...                             ...   \n",
       "15330  ...  Madrid                 Madrid, Zona de   \n",
       "15331  ...  Madrid  Madrid Sureste - Cuenca Tajuña   \n",
       "15332  ...  Madrid                   Zona Noroeste   \n",
       "15333  ...  Madrid  Madrid Sureste - Cuenca Tajuña   \n",
       "15334  ...  Madrid                 Madrid, Zona de   \n",
       "\n",
       "                                level4                  level5 level6  \\\n",
       "0             Arganda del Rey, Zona de         Arganda del Rey    NaN   \n",
       "2          Boadilla del Monte, Zona de      Boadilla del Monte    NaN   \n",
       "3                 Fuenlabrada, Zona de             Fuenlabrada    NaN   \n",
       "4             Arganda del Rey, Zona de         Arganda del Rey    NaN   \n",
       "5         Las Rozas de Madrid, Zona de     Las Rozas de Madrid    NaN   \n",
       "...                                ...                     ...    ...   \n",
       "15330                              NaN          Madrid Capital    NaN   \n",
       "15331  Velilla de San Antonio, Zona de  Velilla de San Antonio    NaN   \n",
       "15332            Torrelodones, Zona de            Torrelodones    NaN   \n",
       "15333  Velilla de San Antonio, Zona de  Velilla de San Antonio    NaN   \n",
       "15334                              NaN          Madrid Capital    NaN   \n",
       "\n",
       "                       level7               level8              upperlevel  \\\n",
       "0                     Perlita                  NaN                 Perlita   \n",
       "2                    Sector B                  NaN                Sector B   \n",
       "3                      Centro                  NaN                  Centro   \n",
       "4                      Centro                  NaN                  Centro   \n",
       "5      El Pinar - Punta Galea                  NaN  El Pinar - Punta Galea   \n",
       "...                       ...                  ...                     ...   \n",
       "15330                  Tetuán           Berruguete              Berruguete   \n",
       "15331                     NaN                  NaN  Velilla de San Antonio   \n",
       "15332           Casco Antiguo                  NaN           Casco Antiguo   \n",
       "15333                     NaN                  NaN  Velilla de San Antonio   \n",
       "15334                  Tetuán  Castillejos - Cuzco     Castillejos - Cuzco   \n",
       "\n",
       "        latitude longitude  \n",
       "0      40.294828 -3.444024  \n",
       "2      40.411565 -3.906623  \n",
       "3      40.285379 -3.795081  \n",
       "4      40.299877 -3.452263  \n",
       "5      40.533910 -3.894450  \n",
       "...          ...       ...  \n",
       "15330  40.454160 -3.702860  \n",
       "15331  40.366520 -3.489510  \n",
       "15332  40.574440 -3.921240  \n",
       "15333  40.369670 -3.481050  \n",
       "15334  40.457730 -3.690680  \n",
       "\n",
       "[14085 rows x 23 columns]"
      ]
     },
     "execution_count": 9,
     "metadata": {},
     "output_type": "execute_result"
    }
   ],
   "source": [
    "df.dropna(subset=[\"surface\"])"
   ]
  },
  {
   "cell_type": "markdown",
   "id": "ab3ea891",
   "metadata": {},
   "source": [
    "Exercise 07. What is the average price in the population of \"Arroyomolinos (Madrid)\"? (★★☆)"
   ]
  },
  {
   "cell_type": "code",
   "execution_count": 10,
   "id": "8361b7c8",
   "metadata": {},
   "outputs": [
    {
     "name": "stdout",
     "output_type": "stream",
     "text": [
      "The average price in Arroyomolinos, Madrid is $ 298905.2\n"
     ]
    }
   ],
   "source": [
    "price_arroyomolinos = df[(df['price'] != 0) & (df['level5']==\"Arroyomolinos (Madrid)\")]['price']\n",
    "\n",
    "\n",
    "print(\"The average price in Arroyomolinos, Madrid is $\", round(price_arroyomolinos.mean(), 1))"
   ]
  },
  {
   "cell_type": "markdown",
   "id": "e5511db9",
   "metadata": {},
   "source": [
    "\n",
    "Exercise 08. Plot the histogram of prices for the population of \"Arroyomolinos (Madrid)\" and explain what you observe (★★☆)"
   ]
  },
  {
   "cell_type": "code",
   "execution_count": 11,
   "id": "c1d50907",
   "metadata": {},
   "outputs": [
    {
     "data": {
      "image/png": "[encoded data removed]",
      "text/plain": [
       "<Figure size 640x480 with 1 Axes>"
      ]
     },
     "metadata": {},
     "output_type": "display_data"
    }
   ],
   "source": [
    "plt.hist(price_arroyomolinos, bins=10)\n",
    "plt.xlabel(\"Range of prices\")\n",
    "plt.ylabel(\"Counts\")\n",
    "plt.title(\"Distribution of prices in Arroyomolinos Madrid\")\n",
    "plt.show()"
   ]
  },
  {
   "cell_type": "markdown",
   "id": "89cb74c6",
   "metadata": {},
   "source": [
    "- Most prices range between 160,000 and 400,000. \n",
    "- The most common housing price is around 380,000, while there are a few outliers up to more than 550,000.\n",
    "- There are no houses less than 100,000 in Arroyomolinos Madrid. "
   ]
  },
  {
   "cell_type": "markdown",
   "id": "1d9a5d92",
   "metadata": {},
   "source": [
    "\n",
    "Exercise 09. Are the average prices of \"Valdemorillo\" and \"Galapagar\" the same? (★★☆)\n",
    "\n",
    "Print both average prices and then write a conclusion about them.\n"
   ]
  },
  {
   "cell_type": "code",
   "execution_count": 12,
   "id": "54d28a28",
   "metadata": {},
   "outputs": [
    {
     "name": "stdout",
     "output_type": "stream",
     "text": [
      "363860.3\n",
      "360063.2\n"
     ]
    }
   ],
   "source": [
    "avg_valdemorillo = df[df['level5']=='Valdemorillo']['price'].mean()\n",
    "avg_galapagar = df[df['level5']=='Galapagar']['price'].mean()\n",
    "\n",
    "print(round(avg_valdemorillo, 1))\n",
    "print(round(avg_galapagar, 1))"
   ]
  },
  {
   "cell_type": "markdown",
   "id": "0691ddaa",
   "metadata": {},
   "source": [
    "\n",
    "Exercise 10. Are the average prices per square meter (price/m2) of \"Valdemorillo\" and \"Galapagar\" the same? (★★☆)\n",
    "\n",
    "Print both average prices and then write a conclusion about it.\n",
    "\n",
    "Hint: Create a new column called pps (price per square meter) and then analyze the values.\n"
   ]
  },
  {
   "cell_type": "code",
   "execution_count": 13,
   "id": "6f7a0890",
   "metadata": {},
   "outputs": [
    {
     "name": "stdout",
     "output_type": "stream",
     "text": [
      "Avg price in Valdemorillo is 1318.0\n",
      "Avg price in Galapagar is 1606.3\n"
     ]
    }
   ],
   "source": [
    "city1 = \"Valdemorillo\"\n",
    "city2 = \"Galapagar\"\n",
    "\n",
    "pps_valdemorillo = df.assign(pps=df['price']/df['surface']).query(\"level5==@city1\")[\"pps\"].mean()\n",
    "pps_galapagar = df.assign(pps=df['price']/df['surface']).query(\"level5==@city2\")[\"pps\"].mean()\n",
    "\n",
    "print(\"Avg price in Valdemorillo is\", round(pps_valdemorillo, 1))\n",
    "print(\"Avg price in Galapagar is\", round(pps_galapagar, 1))\n"
   ]
  },
  {
   "cell_type": "markdown",
   "id": "3c84c099",
   "metadata": {},
   "source": [
    "\n",
    "Exercise 11. Analyze the relation between the surface and the price of the houses (★★☆)\n",
    "\n",
    "Hint: You can make a scatter plot, then write a conclusion about it.\n"
   ]
  },
  {
   "cell_type": "code",
   "execution_count": 14,
   "id": "7e1db180",
   "metadata": {},
   "outputs": [
    {
     "data": {
      "image/png": "[encoded data removed]",
      "text/plain": [
       "<Figure size 640x480 with 1 Axes>"
      ]
     },
     "metadata": {},
     "output_type": "display_data"
    }
   ],
   "source": [
    "surface_filtered = df[df['surface'] < 3000]\n",
    "\n",
    "plt.scatter(surface_filtered['price'], surface_filtered['surface'])\n",
    "plt.xlabel(\"Price\")\n",
    "plt.ylabel(\"Area per meter squared\")\n",
    "plt.title(\"Relationship between the surface and the price of the houses\")\n",
    "plt.show()"
   ]
  },
  {
   "cell_type": "markdown",
   "id": "2218cea8",
   "metadata": {},
   "source": [
    "\n",
    "Exercise 12. How many real estate agencies does the dataset contain? (★★☆)\n",
    "\n",
    "Print the obtained value.\n"
   ]
  },
  {
   "cell_type": "code",
   "execution_count": 15,
   "id": "04c4208e",
   "metadata": {},
   "outputs": [
    {
     "name": "stdout",
     "output_type": "stream",
     "text": [
      "There are 1822 in the dataset\n"
     ]
    }
   ],
   "source": [
    "agencies = df['realestate_name'].unique().shape[0]\n",
    "\n",
    "print(f\"There are {agencies} in the dataset\")"
   ]
  },
  {
   "cell_type": "markdown",
   "id": "9582773d",
   "metadata": {},
   "source": [
    "\n",
    "Exercise 13. Which is the population (level5 column) that contains the most houses? (★★☆)\n",
    "\n",
    "Print both the population and the number of houses.\n"
   ]
  },
  {
   "cell_type": "code",
   "execution_count": 16,
   "id": "40fb90f3",
   "metadata": {},
   "outputs": [
    {
     "data": {
      "text/plain": [
       "level5\n",
       " Madrid Capital         6643\n",
       "Alcalá de Henares        525\n",
       "Las Rozas de Madrid      383\n",
       "Móstoles                 325\n",
       "Getafe                   290\n",
       "                        ... \n",
       "Montejo de la Sierra       1\n",
       "Lozoya                     1\n",
       "Pinilla del Valle          1\n",
       "Rascafría                  1\n",
       "Piñuécar-gandullas         1\n",
       "Length: 168, dtype: int64"
      ]
     },
     "execution_count": 16,
     "metadata": {},
     "output_type": "execute_result"
    }
   ],
   "source": [
    "df.groupby(by=\"level5\").size().sort_values(ascending=False)\n",
    "\n",
    "\n"
   ]
  },
  {
   "cell_type": "markdown",
   "id": "8cd9bb31",
   "metadata": {},
   "source": [
    "\n",
    "Exercise 14. Now let's work with the \"south belt\" of Madrid. Make a subset of the original DataFrame that contains the following populations (level5 column): \"Fuenlabrada\", \"Leganés\", \"Getafe\", \"Alcorcón\" (★★☆)\n",
    "\n",
    "Hint: Filter the original DataFrame using the column level5 and the function isin.\n"
   ]
  },
  {
   "cell_type": "code",
   "execution_count": 17,
   "id": "6b8b8271",
   "metadata": {},
   "outputs": [],
   "source": [
    "south_belt = [\"Fuenlabrada\", \"Leganés\", \"Getafe\", \"Alcorcón\"]\n",
    "\n",
    "south_belt_df = df[df['level5'].isin(south_belt)]\n"
   ]
  },
  {
   "cell_type": "markdown",
   "id": "4ec3379f",
   "metadata": {},
   "source": [
    "Exercise 15. Make a bar plot of the median of the prices and explain what you observe (you must use the subset obtained in Exercise 14) (★★★)\n",
    "\n",
    "Print the bar of the median of the prices and write in the Markdown cell a brief analysis about the plot."
   ]
  },
  {
   "cell_type": "code",
   "execution_count": 18,
   "id": "32bcc262",
   "metadata": {},
   "outputs": [
    {
     "data": {
      "image/png": "[encoded data removed]",
      "text/plain": [
       "<Figure size 640x480 with 1 Axes>"
      ]
     },
     "metadata": {},
     "output_type": "display_data"
    }
   ],
   "source": [
    "south_belt_df_grouped = south_belt_df.groupby(by=\"level5\")\n",
    "\n",
    "plt.bar(south_belt, south_belt_df_grouped['price'].median())\n",
    "plt.xlabel(\"South Belt\")\n",
    "plt.ylabel(\"Median of prices\")\n",
    "plt.title(\"Median of prices in South Belt\")\n",
    "plt.show()"
   ]
  },
  {
   "cell_type": "markdown",
   "id": "26e2c188",
   "metadata": {},
   "source": [
    "\n",
    "Exercise 16. Calculate the sample mean and variance of the variables: price, rooms, surface area and bathrooms (you must use the subset obtained in Exercise 14) (★★★)\n",
    "\n",
    "Print both values for each variable.\n"
   ]
  },
  {
   "cell_type": "code",
   "execution_count": 19,
   "id": "ce7802a2",
   "metadata": {},
   "outputs": [
    {
     "data": {
      "text/html": [
       "<div>\n",
       "<style scoped>\n",
       "    .dataframe tbody tr th:only-of-type {\n",
       "        vertical-align: middle;\n",
       "    }\n",
       "\n",
       "    .dataframe tbody tr th {\n",
       "        vertical-align: top;\n",
       "    }\n",
       "\n",
       "    .dataframe thead th {\n",
       "        text-align: right;\n",
       "    }\n",
       "</style>\n",
       "<table border=\"1\" class=\"dataframe\">\n",
       "  <thead>\n",
       "    <tr style=\"text-align: right;\">\n",
       "      <th></th>\n",
       "      <th>price</th>\n",
       "      <th>rooms</th>\n",
       "      <th>surface_area</th>\n",
       "      <th>bathrooms</th>\n",
       "    </tr>\n",
       "  </thead>\n",
       "  <tbody>\n",
       "    <tr>\n",
       "      <th>mean</th>\n",
       "      <td>2.230945e+05</td>\n",
       "      <td>3.017738</td>\n",
       "      <td>111.752224</td>\n",
       "      <td>1.633222</td>\n",
       "    </tr>\n",
       "    <tr>\n",
       "      <th>var</th>\n",
       "      <td>1.492137e+10</td>\n",
       "      <td>0.718886</td>\n",
       "      <td>4263.051760</td>\n",
       "      <td>0.571797</td>\n",
       "    </tr>\n",
       "  </tbody>\n",
       "</table>\n",
       "</div>"
      ],
      "text/plain": [
       "             price     rooms  surface_area  bathrooms\n",
       "mean  2.230945e+05  3.017738    111.752224   1.633222\n",
       "var   1.492137e+10  0.718886   4263.051760   0.571797"
      ]
     },
     "execution_count": 19,
     "metadata": {},
     "output_type": "execute_result"
    }
   ],
   "source": [
    "price = south_belt_df['price']\n",
    "rooms = south_belt_df['rooms']\n",
    "surface_area = south_belt_df['surface']\n",
    "bathrooms = south_belt_df['bathrooms']\n",
    "\n",
    "data = {\n",
    "    \"price\": [price.mean(), price.var()],\n",
    "    \"rooms\": [rooms.mean(), rooms.var()],\n",
    "    \"surface_area\": [surface_area.mean(), surface_area.var()],\n",
    "    \"bathrooms\": [bathrooms.mean(), bathrooms.var()]\n",
    "}\n",
    "\n",
    "pd.DataFrame(data, index=[\"mean\", \"var\"])"
   ]
  },
  {
   "cell_type": "markdown",
   "id": "e71f8ca4",
   "metadata": {},
   "source": [
    "\n",
    "Exercise 17. What is the most expensive house in each population? You must use the subset obtained in Exercise 14 (★★☆)\n",
    "\n",
    "Print both the address and the price of the selected house of each population. You can print a DataFrame or a single line for each population.\n"
   ]
  },
  {
   "cell_type": "code",
   "execution_count": 20,
   "id": "cef0ded4",
   "metadata": {},
   "outputs": [
    {
     "data": {
      "text/html": [
       "<div>\n",
       "<style scoped>\n",
       "    .dataframe tbody tr th:only-of-type {\n",
       "        vertical-align: middle;\n",
       "    }\n",
       "\n",
       "    .dataframe tbody tr th {\n",
       "        vertical-align: top;\n",
       "    }\n",
       "\n",
       "    .dataframe thead th {\n",
       "        text-align: right;\n",
       "    }\n",
       "</style>\n",
       "<table border=\"1\" class=\"dataframe\">\n",
       "  <thead>\n",
       "    <tr style=\"text-align: right;\">\n",
       "      <th></th>\n",
       "      <th>price</th>\n",
       "    </tr>\n",
       "    <tr>\n",
       "      <th>level5</th>\n",
       "      <th></th>\n",
       "    </tr>\n",
       "  </thead>\n",
       "  <tbody>\n",
       "    <tr>\n",
       "      <th>Alcorcón</th>\n",
       "      <td>950000</td>\n",
       "    </tr>\n",
       "    <tr>\n",
       "      <th>Fuenlabrada</th>\n",
       "      <td>490000</td>\n",
       "    </tr>\n",
       "    <tr>\n",
       "      <th>Getafe</th>\n",
       "      <td>1050000</td>\n",
       "    </tr>\n",
       "    <tr>\n",
       "      <th>Leganés</th>\n",
       "      <td>650000</td>\n",
       "    </tr>\n",
       "  </tbody>\n",
       "</table>\n",
       "</div>"
      ],
      "text/plain": [
       "               price\n",
       "level5              \n",
       "Alcorcón      950000\n",
       "Fuenlabrada   490000\n",
       "Getafe       1050000\n",
       "Leganés       650000"
      ]
     },
     "execution_count": 20,
     "metadata": {},
     "output_type": "execute_result"
    }
   ],
   "source": [
    "south_belt_df_grouped.agg({\"price\":\"max\"})"
   ]
  },
  {
   "cell_type": "markdown",
   "id": "e2a726bd",
   "metadata": {},
   "source": [
    "\n",
    "Exercise 18. Normalize the variable of prices for each population and plot the 4 histograms in the same plot (you must use the subset obtained in Exercise 14) (★★★)\n",
    "\n",
    "For the normalization method, you can use the one you consider; there is not a single correct answer to this question. Print the plot and write in the Markdown cell a brief analysis about the plot.\n",
    "\n",
    "Hint: You can help yourself by reviewing the multihist demo of Matplotlib.\n"
   ]
  },
  {
   "cell_type": "code",
   "execution_count": 21,
   "id": "db292b2c",
   "metadata": {},
   "outputs": [
    {
     "data": {
      "image/png": "[encoded data removed]",
      "text/plain": [
       "<Figure size 1000x800 with 4 Axes>"
      ]
     },
     "metadata": {},
     "output_type": "display_data"
    }
   ],
   "source": [
    "# [\"Fuenlabrada\", \"Leganés\", \"Getafe\", \"Alcorcón\"]\n",
    "fuenlabrada = south_belt_df.loc[south_belt_df['level5'] == \"Fuenlabrada\", [\"price\"]]\n",
    "leganes = south_belt_df.loc[south_belt_df['level5'] == \"Leganés\", [\"price\"]]\n",
    "getafe = south_belt_df.loc[south_belt_df['level5'] == \"Getafe\", [\"price\"]]\n",
    "alarcon = south_belt_df.loc[south_belt_df['level5'] == \"Alcorcón\", [\"price\"]]\n",
    "\n",
    "south = [fuenlabrada, leganes, getafe, alarcon]\n",
    "normalized_data = []\n",
    "\n",
    "# Normalizing prices\n",
    "\n",
    "for data in south:\n",
    "    min_val = np.min(data)\n",
    "    max_val = np.max(data)\n",
    "\n",
    "    normalized = (data - min_val) / (max_val - min_val) \n",
    "\n",
    "    normalized_data.append(normalized)\n",
    "\n",
    "\n",
    "fig, axes = plt.subplots(2, 2, figsize=(10, 8))\n",
    "\n",
    "axes[0, 0].hist(normalized_data[0], edgecolor='black', alpha=0.5, color='r')\n",
    "axes[0, 0].set_title('Fuenlabrada')\n",
    "\n",
    "axes[0, 1].hist(normalized_data[1], edgecolor='black', alpha=0.7, color='y')\n",
    "axes[0, 1].set_title('Leganés')\n",
    "\n",
    "axes[1, 0].hist(normalized_data[2], edgecolor='black', alpha=0.7, color='g')\n",
    "axes[1, 0].set_title('Getafe')\n",
    "\n",
    "axes[1, 1].hist(normalized_data[3], edgecolor='black', alpha=0.7, color='c')\n",
    "axes[1, 1].set_title('Alcorcón')\n",
    "\n",
    "plt.suptitle(\"Histogram of normalized prices for each region\")\n",
    "plt.tight_layout()\n",
    "plt.show()\n"
   ]
  },
  {
   "cell_type": "markdown",
   "id": "483eb570",
   "metadata": {},
   "source": [
    "\n",
    "Exercise 19. What can you say about the price per square meter (price/m2) between the towns of \"Getafe\" and \"Alcorcón\"? You must use the subset obtained in Exercise 14 (★★☆)\n",
    "\n",
    "Hint: Create a new column called pps (price per square meter) and then analyze the values.\n"
   ]
  },
  {
   "cell_type": "code",
   "execution_count": 22,
   "id": "47233df0",
   "metadata": {},
   "outputs": [
    {
     "data": {
      "image/png": "[encoded data removed]",
      "text/plain": [
       "<Figure size 640x480 with 1 Axes>"
      ]
     },
     "metadata": {},
     "output_type": "display_data"
    }
   ],
   "source": [
    "pd.options.mode.chained_assignment = None # Ignore warning of using a copy of df\n",
    "\n",
    "south_belt_df['pps'] = south_belt_df['price'] / south_belt_df['surface']\n",
    "\n",
    "# Filter pps from Getafe and Alcorcón\n",
    "get_alar_pps = south_belt_df.loc[south_belt_df['level5'].isin(['Getafe', 'Alcorcón']), ['pps', 'level5']]\n",
    "\n",
    "sns.boxplot(data=get_alar_pps, x='level5', y='pps', hue='level5')\n",
    "plt.title('Alcorcón vs Getafe price per meter sqr comparative')\n",
    "\n",
    "plt.show()"
   ]
  },
  {
   "cell_type": "markdown",
   "id": "5f8386f9",
   "metadata": {},
   "source": [
    "Exercise 20. Make the same plot for 4 different populations (level5 column) and rearrange them on the same graph. You must use the subset obtained in Exercise 14 (★★☆)"
   ]
  },
  {
   "cell_type": "code",
   "execution_count": 23,
   "id": "b6cde1b5",
   "metadata": {},
   "outputs": [
    {
     "data": {
      "image/png": "[encoded data removed]",
      "text/plain": [
       "<Figure size 640x480 with 1 Axes>"
      ]
     },
     "metadata": {},
     "output_type": "display_data"
    }
   ],
   "source": [
    "# south belt = [\"Fuenlabrada\", \"Leganés\", \"Getafe\", \"Alcorcón\"]\n",
    "\n",
    "south_belt_pps = south_belt_df[['level5', 'pps']]\n",
    "\n",
    "sns.boxplot(data=south_belt_df, x='level5', y='pps', hue='level5')\n",
    "plt.ylabel(\"Price per meter sqrd (euros)\")\n",
    "plt.xlabel(\"Population\")\n",
    "plt.title(\"Comparative in pps between four populations in Spain\")\n",
    "\n",
    "plt.show()\n",
    "\n"
   ]
  },
  {
   "cell_type": "markdown",
   "id": "82203e6f",
   "metadata": {},
   "source": [
    "Exercise 21. Make a plot of the coordinates (latitude and longitude columns) of the south belt of Madrid by color of each population (you must use the subset obtained in Exercise 14) (★★★★)"
   ]
  },
  {
   "cell_type": "code",
   "execution_count": 24,
   "id": "863c2510",
   "metadata": {},
   "outputs": [
    {
     "data": {
      "application/vnd.jupyter.widget-view+json": {
       "model_id": "f526c549c4a14e19aaa8bdf61e0c1fb3",
       "version_major": 2,
       "version_minor": 0
      },
      "text/plain": [
       "Map(center=[40.35, -3.8], controls=(ZoomControl(options=['position', 'zoom_in_text', 'zoom_in_title', 'zoom_ou…"
      ]
     },
     "execution_count": 24,
     "metadata": {},
     "output_type": "execute_result"
    }
   ],
   "source": [
    "from ipyleaflet import Map, basemaps, Marker\n",
    "\n",
    "map = Map(basemap=basemaps.OpenStreetMap.Mapnik, center=(40.35, -3.8), zoom=11.5)\n",
    "\n",
    "map"
   ]
  },
  {
   "cell_type": "code",
   "execution_count": 25,
   "id": "a7401ba5",
   "metadata": {},
   "outputs": [
    {
     "data": {
      "application/vnd.jupyter.widget-view+json": {
       "model_id": "f526c549c4a14e19aaa8bdf61e0c1fb3",
       "version_major": 2,
       "version_minor": 0
      },
      "text/plain": [
       "Map(center=[40.35, -3.8], controls=(ZoomControl(options=['position', 'zoom_in_text', 'zoom_in_title', 'zoom_ou…"
      ]
     },
     "execution_count": 25,
     "metadata": {},
     "output_type": "execute_result"
    }
   ],
   "source": [
    "latitude = south_belt_df['latitude'].tolist()\n",
    "longitude = south_belt_df['longitude'].tolist()\n",
    "\n",
    "coordinates = list(zip(latitude, longitude))\n",
    "\n",
    "for coor in coordinates:\n",
    "    marker = Marker(location=coor)\n",
    "    map.add(marker) \n",
    "\n",
    "map"
   ]
  },
  {
   "cell_type": "markdown",
   "id": "607561b9",
   "metadata": {},
   "source": [
    "## **Conclusiones**\n",
    "\n",
    "- Conclusión 1: Los datos nunca vienen limpios. Hay que limpiarlos tanto técnica como lógicamente y el data scientist es el encargado de decidir bajo su propio criterio lo que se queda y lo que se va. \n",
    "- Conclusión 2: Es importante hacer copias del dataframe original, así como hacer comentarios sobre el proceso lógico que va haciendo el Data Scientist. Todos los pasos deben estar estructurados y sin asumir nada, puesto que el código está hecho para que otras personas trabajen sobre él. \n",
    "- Conclusión 3: Se aprende practicando"
   ]
  }
 ],
 "metadata": {
  "kernelspec": {
   "display_name": ".venv",
   "language": "python",
   "name": "python3"
  },
  "language_info": {
   "codemirror_mode": {
    "name": "ipython",
    "version": 3
   },
   "file_extension": ".py",
   "mimetype": "text/x-python",
   "name": "python",
   "nbconvert_exporter": "python",
   "pygments_lexer": "ipython3",
   "version": "3.12.1"
  }
 },
 "nbformat": 4,
 "nbformat_minor": 5
}
