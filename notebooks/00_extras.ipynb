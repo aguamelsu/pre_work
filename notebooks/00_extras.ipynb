{
 "cells": [
  {
   "cell_type": "code",
   "execution_count": null,
   "id": "0959b8bc",
   "metadata": {},
   "outputs": [],
   "source": [
    "df_baking['country'].describe(include=\"all\")\n",
    "\n",
    "df_baking.describe()"
   ]
  },
  {
   "cell_type": "code",
   "execution_count": null,
   "id": "0e28fa42",
   "metadata": {},
   "outputs": [],
   "source": [
    "my_df = {\n",
    "    \"name\": [\"Joe\", \"Jack\", \"Jane\"],\n",
    "    \"age\": [21, 22, 23]\n",
    "}\n",
    "\n",
    "pd.DataFrame(my_df)"
   ]
  },
  {
   "cell_type": "code",
   "execution_count": null,
   "id": "ac2c34f5",
   "metadata": {},
   "outputs": [],
   "source": [
    "df_baking[[\"rooms\"]] # 2 squared brakets is a dataframe"
   ]
  },
  {
   "cell_type": "code",
   "execution_count": null,
   "id": "9824423b",
   "metadata": {},
   "outputs": [],
   "source": [
    "df_baking.info"
   ]
  },
  {
   "cell_type": "code",
   "execution_count": null,
   "id": "a0a25e9f",
   "metadata": {},
   "outputs": [],
   "source": [
    "rooms.isna().value_counts()"
   ]
  },
  {
   "cell_type": "code",
   "execution_count": null,
   "id": "f0086823",
   "metadata": {},
   "outputs": [],
   "source": [
    "df_baking.loc[df_baking[\"realestate_name\"] == \"engel volkers madrid\", \"phone_realestate\"]"
   ]
  },
  {
   "cell_type": "code",
   "execution_count": null,
   "id": "1919e6c8",
   "metadata": {},
   "outputs": [],
   "source": [
    "rooms = df_baking[\"rooms\"]\n",
    "\n",
    "display(rooms.mean(), rooms.min(), rooms.max())\n",
    "\n",
    "rooms.describe()"
   ]
  },
  {
   "cell_type": "code",
   "execution_count": null,
   "id": "aebce4e5",
   "metadata": {},
   "outputs": [
    {
     "data": {
      "text/html": [
       "<div>\n",
       "<style scoped>\n",
       "    .dataframe tbody tr th:only-of-type {\n",
       "        vertical-align: middle;\n",
       "    }\n",
       "\n",
       "    .dataframe tbody tr th {\n",
       "        vertical-align: top;\n",
       "    }\n",
       "\n",
       "    .dataframe thead th {\n",
       "        text-align: right;\n",
       "    }\n",
       "</style>\n",
       "<table border=\"1\" class=\"dataframe\">\n",
       "  <thead>\n",
       "    <tr style=\"text-align: right;\">\n",
       "      <th></th>\n",
       "      <th>country</th>\n",
       "      <th>city</th>\n",
       "      <th>numbers</th>\n",
       "    </tr>\n",
       "  </thead>\n",
       "  <tbody>\n",
       "    <tr>\n",
       "      <th>0</th>\n",
       "      <td>Spain</td>\n",
       "      <td>Madrid</td>\n",
       "      <td>3</td>\n",
       "    </tr>\n",
       "    <tr>\n",
       "      <th>1</th>\n",
       "      <td>Spain</td>\n",
       "      <td>Madrid</td>\n",
       "      <td>4</td>\n",
       "    </tr>\n",
       "    <tr>\n",
       "      <th>2</th>\n",
       "      <td>Spain</td>\n",
       "      <td>Madrid</td>\n",
       "      <td>5</td>\n",
       "    </tr>\n",
       "    <tr>\n",
       "      <th>3</th>\n",
       "      <td>Spain</td>\n",
       "      <td>Galicia</td>\n",
       "      <td>7</td>\n",
       "    </tr>\n",
       "    <tr>\n",
       "      <th>4</th>\n",
       "      <td>Spain</td>\n",
       "      <td>Galicia</td>\n",
       "      <td>9</td>\n",
       "    </tr>\n",
       "  </tbody>\n",
       "</table>\n",
       "</div>"
      ],
      "text/plain": [
       "  country     city  numbers\n",
       "0   Spain   Madrid        3\n",
       "1   Spain   Madrid        4\n",
       "2   Spain   Madrid        5\n",
       "3   Spain  Galicia        7\n",
       "4   Spain  Galicia        9"
      ]
     },
     "execution_count": 2,
     "metadata": {},
     "output_type": "execute_result"
    }
   ],
   "source": [
    "import pandas as pd\n",
    "\n",
    "my_df = pd.DataFrame({\n",
    "    \"country\": [\"Spain\" for i in range(5)], \n",
    "    \"city\": [\"Madrid\", \"Madrid\", \"Madrid\", \"Galicia\", \"Galicia\"], \n",
    "    \"numbers\": [3, 4, 5, 7, 9]\n",
    "})\n",
    "\n",
    "my_df"
   ]
  },
  {
   "cell_type": "code",
   "execution_count": 8,
   "id": "60909972",
   "metadata": {},
   "outputs": [
    {
     "data": {
      "text/html": [
       "<div>\n",
       "<style scoped>\n",
       "    .dataframe tbody tr th:only-of-type {\n",
       "        vertical-align: middle;\n",
       "    }\n",
       "\n",
       "    .dataframe tbody tr th {\n",
       "        vertical-align: top;\n",
       "    }\n",
       "\n",
       "    .dataframe thead th {\n",
       "        text-align: right;\n",
       "    }\n",
       "</style>\n",
       "<table border=\"1\" class=\"dataframe\">\n",
       "  <thead>\n",
       "    <tr style=\"text-align: right;\">\n",
       "      <th></th>\n",
       "      <th>numbers</th>\n",
       "    </tr>\n",
       "    <tr>\n",
       "      <th>city</th>\n",
       "      <th></th>\n",
       "    </tr>\n",
       "  </thead>\n",
       "  <tbody>\n",
       "    <tr>\n",
       "      <th>Galicia</th>\n",
       "      <td>8.0</td>\n",
       "    </tr>\n",
       "    <tr>\n",
       "      <th>Madrid</th>\n",
       "      <td>4.0</td>\n",
       "    </tr>\n",
       "  </tbody>\n",
       "</table>\n",
       "</div>"
      ],
      "text/plain": [
       "         numbers\n",
       "city            \n",
       "Galicia      8.0\n",
       "Madrid       4.0"
      ]
     },
     "execution_count": 8,
     "metadata": {},
     "output_type": "execute_result"
    }
   ],
   "source": [
    "\n",
    "my_df.groupby(by=\"city\").agg({\"numbers\":\"mean\"})"
   ]
  }
 ],
 "metadata": {
  "kernelspec": {
   "display_name": ".venv",
   "language": "python",
   "name": "python3"
  },
  "language_info": {
   "codemirror_mode": {
    "name": "ipython",
    "version": 3
   },
   "file_extension": ".py",
   "mimetype": "text/x-python",
   "name": "python",
   "nbconvert_exporter": "python",
   "pygments_lexer": "ipython3",
   "version": "3.12.1"
  }
 },
 "nbformat": 4,
 "nbformat_minor": 5
}
